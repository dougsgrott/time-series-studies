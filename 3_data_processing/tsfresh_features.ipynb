{
 "cells": [
  {
   "cell_type": "code",
   "execution_count": 12,
   "id": "a9631c7b",
   "metadata": {},
   "outputs": [],
   "source": [
    "import pandas as pd\n",
    "import seaborn as sns\n",
    "from tsfresh import extract_features\n",
    "from tsfresh.utilities.dataframe_functions import impute, roll_time_series\n",
    "import numpy as np\n",
    "import matplotlib.pyplot as plt\n",
    "\n",
    "# Original Data Loading and Preparation\n",
    "flights = sns.load_dataset('flights')\n",
    "month_map = {\n",
    "    'Jan': '01', 'Feb': '02', 'Mar': '03', 'Apr': '04', 'May': '05', 'Jun': '06',\n",
    "    'Jul': '07', 'Aug': '08', 'Sep': '09', 'Oct': '10', 'Nov': '11', 'Dec': '12'\n",
    "}\n",
    "flights['month_str'] = flights['month'].map(month_map).astype(str)\n",
    "flights['year_str'] = flights['year'].astype(str)\n",
    "flights['date'] = flights['year_str'] + '-' + flights['month_str'] + '-01'\n",
    "flights['date'] = pd.to_datetime(flights['date'])\n",
    "\n",
    "# Data prep for tsfresh rolling process\n",
    "flights_prepared = flights[['date', 'passengers']].copy()\n",
    "flights_prepared['id'] = 1\n",
    "flights_prepared = flights_prepared.rename(columns={'date': 'time', 'passengers': 'value'})\n",
    "\n",
    "# Add a lagged column (t-1), which excludes the current time point (t)\n",
    "flights_prepared['value_lag1'] = flights_prepared['value'].shift(1)\n"
   ]
  },
  {
   "cell_type": "markdown",
   "id": "520bc4f3",
   "metadata": {},
   "source": [
    "# Creating windows"
   ]
  },
  {
   "cell_type": "code",
   "execution_count": 13,
   "id": "17ea85db",
   "metadata": {},
   "outputs": [
    {
     "name": "stderr",
     "output_type": "stream",
     "text": [
      "c:\\Users\\douglas.sgrott_indic\\miniconda3\\envs\\tsfresh_venv\\lib\\site-packages\\tsfresh\\utilities\\dataframe_functions.py:520: UserWarning: Your time stamps are not uniformly sampled, which makes rolling nonsensical in some domains.\n",
      "  warnings.warn(\n"
     ]
    },
    {
     "name": "stdout",
     "output_type": "stream",
     "text": [
      "Creating rolling windows with length 12 using roll_time_series...\n"
     ]
    },
    {
     "name": "stderr",
     "output_type": "stream",
     "text": [
      "Rolling: 100%|██████████| 36/36 [00:08<00:00,  4.08it/s]"
     ]
    },
    {
     "name": "stdout",
     "output_type": "stream",
     "text": [
      "Rolling windows created.\n"
     ]
    },
    {
     "name": "stderr",
     "output_type": "stream",
     "text": [
      "\n"
     ]
    }
   ],
   "source": [
    "\n",
    "window_length = 12\n",
    "\n",
    "# Create Windowed Data using roll_time_series\n",
    "print(f\"Creating rolling windows with length {window_length} using roll_time_series...\")\n",
    "\n",
    "rolled_flights_df = roll_time_series(\n",
    "    flights_prepared,\n",
    "    column_id='id',\n",
    "    column_sort='time',\n",
    "    max_timeshift=window_length,\n",
    ")\n",
    "\n",
    "print(\"Rolling windows created.\")\n"
   ]
  },
  {
   "cell_type": "markdown",
   "id": "0fed0f9f",
   "metadata": {},
   "source": [
    "# Feature extraction"
   ]
  },
  {
   "cell_type": "code",
   "execution_count": 18,
   "id": "cc30a854",
   "metadata": {},
   "outputs": [
    {
     "name": "stdout",
     "output_type": "stream",
     "text": [
      "\n",
      "Extracting features from windows...\n"
     ]
    },
    {
     "name": "stderr",
     "output_type": "stream",
     "text": [
      "Feature Extraction: 100%|██████████| 36/36 [00:09<00:00,  3.90it/s]"
     ]
    },
    {
     "name": "stdout",
     "output_type": "stream",
     "text": [
      "\n",
      "Number of windows processed: 144\n"
     ]
    },
    {
     "name": "stderr",
     "output_type": "stream",
     "text": [
      "\n"
     ]
    }
   ],
   "source": [
    "\n",
    "# Define Features to Extract\n",
    "fc_parameters = {\n",
    "    \"length\": None,\n",
    "    # \"large_standard_deviation\": [{\"r\": 0.05}, {\"r\": 0.1}],\n",
    "    \"mean\": None,\n",
    "    \"median\": None,\n",
    "    \"standard_deviation\": None,\n",
    "    \"variance\": None,\n",
    "    \"maximum\": None,\n",
    "    \"minimum\": None,\n",
    "    \"abs_energy\": None\n",
    "}\n",
    "\n",
    "# Extract Features on the Rolled Data\n",
    "print(\"\\nExtracting features from windows...\")\n",
    "extracted_features_windows = extract_features(\n",
    "    rolled_flights_df,\n",
    "    default_fc_parameters=fc_parameters,\n",
    "    column_id='id',        # Use the new window IDs created by roll_time_series\n",
    "    column_sort='time',    # Time column within each window\n",
    "    column_value='value',  # Specify the value column for feature calculation\n",
    "    disable_progressbar=False\n",
    ")\n",
    "\n",
    "# Impute missing values\n",
    "impute(extracted_features_windows)\n",
    "print(f\"\\nNumber of windows processed: {len(extracted_features_windows)}\")\n"
   ]
  },
  {
   "cell_type": "markdown",
   "id": "5d8362fd",
   "metadata": {},
   "source": [
    "# Merging the data back together"
   ]
  },
  {
   "cell_type": "code",
   "execution_count": null,
   "id": "b782e414",
   "metadata": {},
   "outputs": [
    {
     "data": {
      "text/html": [
       "<div>\n",
       "<style scoped>\n",
       "    .dataframe tbody tr th:only-of-type {\n",
       "        vertical-align: middle;\n",
       "    }\n",
       "\n",
       "    .dataframe tbody tr th {\n",
       "        vertical-align: top;\n",
       "    }\n",
       "\n",
       "    .dataframe thead th {\n",
       "        text-align: right;\n",
       "    }\n",
       "</style>\n",
       "<table border=\"1\" class=\"dataframe\">\n",
       "  <thead>\n",
       "    <tr style=\"text-align: right;\">\n",
       "      <th></th>\n",
       "      <th>time</th>\n",
       "      <th>value</th>\n",
       "      <th>id</th>\n",
       "      <th>value_lag1</th>\n",
       "      <th>value__length</th>\n",
       "      <th>value__mean</th>\n",
       "      <th>value__median</th>\n",
       "      <th>value__standard_deviation</th>\n",
       "      <th>value__variance</th>\n",
       "      <th>value__maximum</th>\n",
       "      <th>value__minimum</th>\n",
       "      <th>value__abs_energy</th>\n",
       "    </tr>\n",
       "  </thead>\n",
       "  <tbody>\n",
       "    <tr>\n",
       "      <th>0</th>\n",
       "      <td>1949-01-01</td>\n",
       "      <td>112</td>\n",
       "      <td>1</td>\n",
       "      <td>NaN</td>\n",
       "      <td>1.0</td>\n",
       "      <td>112.000000</td>\n",
       "      <td>112.0</td>\n",
       "      <td>0.000000</td>\n",
       "      <td>0.000000</td>\n",
       "      <td>112.0</td>\n",
       "      <td>112.0</td>\n",
       "      <td>12544.0</td>\n",
       "    </tr>\n",
       "    <tr>\n",
       "      <th>1</th>\n",
       "      <td>1949-02-01</td>\n",
       "      <td>118</td>\n",
       "      <td>1</td>\n",
       "      <td>112.0</td>\n",
       "      <td>2.0</td>\n",
       "      <td>115.000000</td>\n",
       "      <td>115.0</td>\n",
       "      <td>3.000000</td>\n",
       "      <td>9.000000</td>\n",
       "      <td>118.0</td>\n",
       "      <td>112.0</td>\n",
       "      <td>26468.0</td>\n",
       "    </tr>\n",
       "    <tr>\n",
       "      <th>2</th>\n",
       "      <td>1949-03-01</td>\n",
       "      <td>132</td>\n",
       "      <td>1</td>\n",
       "      <td>118.0</td>\n",
       "      <td>3.0</td>\n",
       "      <td>120.666667</td>\n",
       "      <td>118.0</td>\n",
       "      <td>8.379870</td>\n",
       "      <td>70.222222</td>\n",
       "      <td>132.0</td>\n",
       "      <td>112.0</td>\n",
       "      <td>43892.0</td>\n",
       "    </tr>\n",
       "    <tr>\n",
       "      <th>3</th>\n",
       "      <td>1949-04-01</td>\n",
       "      <td>129</td>\n",
       "      <td>1</td>\n",
       "      <td>132.0</td>\n",
       "      <td>4.0</td>\n",
       "      <td>122.750000</td>\n",
       "      <td>123.5</td>\n",
       "      <td>8.104783</td>\n",
       "      <td>65.687500</td>\n",
       "      <td>132.0</td>\n",
       "      <td>112.0</td>\n",
       "      <td>60533.0</td>\n",
       "    </tr>\n",
       "    <tr>\n",
       "      <th>4</th>\n",
       "      <td>1949-05-01</td>\n",
       "      <td>121</td>\n",
       "      <td>1</td>\n",
       "      <td>129.0</td>\n",
       "      <td>5.0</td>\n",
       "      <td>122.400000</td>\n",
       "      <td>121.0</td>\n",
       "      <td>7.282857</td>\n",
       "      <td>53.040000</td>\n",
       "      <td>132.0</td>\n",
       "      <td>112.0</td>\n",
       "      <td>75174.0</td>\n",
       "    </tr>\n",
       "    <tr>\n",
       "      <th>...</th>\n",
       "      <td>...</td>\n",
       "      <td>...</td>\n",
       "      <td>...</td>\n",
       "      <td>...</td>\n",
       "      <td>...</td>\n",
       "      <td>...</td>\n",
       "      <td>...</td>\n",
       "      <td>...</td>\n",
       "      <td>...</td>\n",
       "      <td>...</td>\n",
       "      <td>...</td>\n",
       "      <td>...</td>\n",
       "    </tr>\n",
       "    <tr>\n",
       "      <th>139</th>\n",
       "      <td>1960-08-01</td>\n",
       "      <td>606</td>\n",
       "      <td>1</td>\n",
       "      <td>622.0</td>\n",
       "      <td>13.0</td>\n",
       "      <td>470.692308</td>\n",
       "      <td>461.0</td>\n",
       "      <td>81.042614</td>\n",
       "      <td>6567.905325</td>\n",
       "      <td>622.0</td>\n",
       "      <td>362.0</td>\n",
       "      <td>2965549.0</td>\n",
       "    </tr>\n",
       "    <tr>\n",
       "      <th>140</th>\n",
       "      <td>1960-09-01</td>\n",
       "      <td>508</td>\n",
       "      <td>1</td>\n",
       "      <td>606.0</td>\n",
       "      <td>13.0</td>\n",
       "      <td>466.769231</td>\n",
       "      <td>461.0</td>\n",
       "      <td>77.844178</td>\n",
       "      <td>6059.715976</td>\n",
       "      <td>622.0</td>\n",
       "      <td>362.0</td>\n",
       "      <td>2911132.0</td>\n",
       "    </tr>\n",
       "    <tr>\n",
       "      <th>141</th>\n",
       "      <td>1960-10-01</td>\n",
       "      <td>461</td>\n",
       "      <td>1</td>\n",
       "      <td>508.0</td>\n",
       "      <td>13.0</td>\n",
       "      <td>466.615385</td>\n",
       "      <td>461.0</td>\n",
       "      <td>77.853451</td>\n",
       "      <td>6061.159763</td>\n",
       "      <td>622.0</td>\n",
       "      <td>362.0</td>\n",
       "      <td>2909284.0</td>\n",
       "    </tr>\n",
       "    <tr>\n",
       "      <th>142</th>\n",
       "      <td>1960-11-01</td>\n",
       "      <td>390</td>\n",
       "      <td>1</td>\n",
       "      <td>461.0</td>\n",
       "      <td>13.0</td>\n",
       "      <td>465.307692</td>\n",
       "      <td>461.0</td>\n",
       "      <td>78.978463</td>\n",
       "      <td>6237.597633</td>\n",
       "      <td>622.0</td>\n",
       "      <td>362.0</td>\n",
       "      <td>2895735.0</td>\n",
       "    </tr>\n",
       "    <tr>\n",
       "      <th>143</th>\n",
       "      <td>1960-12-01</td>\n",
       "      <td>432</td>\n",
       "      <td>1</td>\n",
       "      <td>390.0</td>\n",
       "      <td>13.0</td>\n",
       "      <td>470.692308</td>\n",
       "      <td>461.0</td>\n",
       "      <td>73.979607</td>\n",
       "      <td>5472.982249</td>\n",
       "      <td>622.0</td>\n",
       "      <td>390.0</td>\n",
       "      <td>2951315.0</td>\n",
       "    </tr>\n",
       "  </tbody>\n",
       "</table>\n",
       "<p>144 rows × 12 columns</p>\n",
       "</div>"
      ],
      "text/plain": [
       "          time  value  id  value_lag1  value__length  value__mean  \\\n",
       "0   1949-01-01    112   1         NaN            1.0   112.000000   \n",
       "1   1949-02-01    118   1       112.0            2.0   115.000000   \n",
       "2   1949-03-01    132   1       118.0            3.0   120.666667   \n",
       "3   1949-04-01    129   1       132.0            4.0   122.750000   \n",
       "4   1949-05-01    121   1       129.0            5.0   122.400000   \n",
       "..         ...    ...  ..         ...            ...          ...   \n",
       "139 1960-08-01    606   1       622.0           13.0   470.692308   \n",
       "140 1960-09-01    508   1       606.0           13.0   466.769231   \n",
       "141 1960-10-01    461   1       508.0           13.0   466.615385   \n",
       "142 1960-11-01    390   1       461.0           13.0   465.307692   \n",
       "143 1960-12-01    432   1       390.0           13.0   470.692308   \n",
       "\n",
       "     value__median  value__standard_deviation  value__variance  \\\n",
       "0            112.0                   0.000000         0.000000   \n",
       "1            115.0                   3.000000         9.000000   \n",
       "2            118.0                   8.379870        70.222222   \n",
       "3            123.5                   8.104783        65.687500   \n",
       "4            121.0                   7.282857        53.040000   \n",
       "..             ...                        ...              ...   \n",
       "139          461.0                  81.042614      6567.905325   \n",
       "140          461.0                  77.844178      6059.715976   \n",
       "141          461.0                  77.853451      6061.159763   \n",
       "142          461.0                  78.978463      6237.597633   \n",
       "143          461.0                  73.979607      5472.982249   \n",
       "\n",
       "     value__maximum  value__minimum  value__abs_energy  \n",
       "0             112.0           112.0            12544.0  \n",
       "1             118.0           112.0            26468.0  \n",
       "2             132.0           112.0            43892.0  \n",
       "3             132.0           112.0            60533.0  \n",
       "4             132.0           112.0            75174.0  \n",
       "..              ...             ...                ...  \n",
       "139           622.0           362.0          2965549.0  \n",
       "140           622.0           362.0          2911132.0  \n",
       "141           622.0           362.0          2909284.0  \n",
       "142           622.0           362.0          2895735.0  \n",
       "143           622.0           390.0          2951315.0  \n",
       "\n",
       "[144 rows x 12 columns]"
      ]
     },
     "execution_count": 25,
     "metadata": {},
     "output_type": "execute_result"
    }
   ],
   "source": [
    "if extracted_features_windows.index.nlevels > 1:\n",
    "    extracted_features_windows = extracted_features_windows.reset_index(names=[\"id\", \"time\"])\n",
    "\n",
    "feature_store = pd.merge(flights_prepared, extracted_features_windows, how=\"left\", on=[\"time\", \"id\"])\n",
    "feature_store"
   ]
  },
  {
   "cell_type": "markdown",
   "id": "0583437d",
   "metadata": {},
   "source": [
    "# Plotting"
   ]
  },
  {
   "cell_type": "code",
   "execution_count": 28,
   "id": "b75292b2",
   "metadata": {},
   "outputs": [
    {
     "data": {
      "text/plain": [
       "<matplotlib.legend.Legend at 0x14939b4c820>"
      ]
     },
     "execution_count": 28,
     "metadata": {},
     "output_type": "execute_result"
    },
    {
     "data": {
      "image/png": "[encoded data removed]",
      "text/plain": [
       "<Figure size 800x400 with 1 Axes>"
      ]
     },
     "metadata": {},
     "output_type": "display_data"
    }
   ],
   "source": [
    "fig, axes = plt.subplots(figsize=(8,4))\n",
    "\n",
    "axes.plot(feature_store['time'], feature_store['value'], label=\"Original value\")\n",
    "axes.plot(feature_store['time'], feature_store['value__mean'], label=\"Mean\")\n",
    "axes.plot(feature_store['time'], feature_store['value__standard_deviation'], label=\"SD\")\n",
    "# axes.plot(feature_store['time'], feature_store['value__variance'], label=\"Variance\")\n",
    "axes.plot(feature_store['time'], feature_store['value__maximum'], label=\"Maximum\")\n",
    "axes.plot(feature_store['time'], feature_store['value__minimum'], label=\"Minimum\")\n",
    "# axes.plot(feature_store['time'], feature_store['value__abs_energy'], label=\"Abs. Energy\")\n",
    "\n",
    "plt.legend()"
   ]
  }
 ],
 "metadata": {
  "kernelspec": {
   "display_name": "tsfresh_venv",
   "language": "python",
   "name": "python3"
  },
  "language_info": {
   "codemirror_mode": {
    "name": "ipython",
    "version": 3
   },
   "file_extension": ".py",
   "mimetype": "text/x-python",
   "name": "python",
   "nbconvert_exporter": "python",
   "pygments_lexer": "ipython3",
   "version": "3.10.16"
  }
 },
 "nbformat": 4,
 "nbformat_minor": 5
}
