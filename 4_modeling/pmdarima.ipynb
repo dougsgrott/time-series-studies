{
 "cells": [
  {
   "cell_type": "code",
   "execution_count": 1,
   "id": "0c3be086",
   "metadata": {},
   "outputs": [
    {
     "data": {
      "text/plain": [
       "'2.2.5'"
      ]
     },
     "execution_count": 1,
     "metadata": {},
     "output_type": "execute_result"
    }
   ],
   "source": [
    "# import pmdarima as pm\n",
    "import os\n",
    "import pandas as pd\n",
    "import matplotlib.pyplot as plt\n",
    "import numpy as np\n",
    "np.__version__"
   ]
  },
  {
   "cell_type": "code",
   "execution_count": 10,
   "id": "bd7e357e",
   "metadata": {},
   "outputs": [
    {
     "data": {
      "text/plain": [
       "Symbol\n",
       "ZBH     3690\n",
       "MMM     3690\n",
       "AOS     3690\n",
       "ABT     3690\n",
       "ZBRA    3690\n",
       "DIS     3690\n",
       "WMT     3690\n",
       "WBA     3690\n",
       "WAB     3690\n",
       "GWW     3690\n",
       "WRB     3690\n",
       "VMC     3690\n",
       "V       3690\n",
       "VTRS    3690\n",
       "VRTX    3690\n",
       "Name: count, dtype: int64"
      ]
     },
     "execution_count": 10,
     "metadata": {},
     "output_type": "execute_result"
    }
   ],
   "source": [
    "stocks_df.dropna()['Symbol'].value_counts().head(15)"
   ]
  },
  {
   "cell_type": "code",
   "execution_count": null,
   "id": "4ea09198",
   "metadata": {},
   "outputs": [
    {
     "data": {
      "text/plain": [
       "['ZBH',\n",
       " 'TECH',\n",
       " 'CMG',\n",
       " 'DUK',\n",
       " 'DOC',\n",
       " 'IEX',\n",
       " 'LULU',\n",
       " 'PNR',\n",
       " 'RCL',\n",
       " 'PSX',\n",
       " 'SOLV']"
      ]
     },
     "execution_count": 15,
     "metadata": {},
     "output_type": "execute_result"
    }
   ],
   "source": []
  },
  {
   "cell_type": "code",
   "execution_count": null,
   "id": "b3c739a2",
   "metadata": {},
   "outputs": [],
   "source": [
    "sp500_path = '/mnt/FE86DAF186DAAA03/Python/Secondary/Study Repositories/time-series-studies/data/sp_500_Stocks'\n",
    "stocks_df = pd.read_csv(os.path.join(sp500_path, 'sp500_stocks.csv')).reset_index()\n",
    "stocks_df.columns = [col.replace(' ', '_').replace('-', '_') for col in stocks_df.columns]\n",
    "\n",
    "selected_tickers = stocks_df.dropna()['Symbol'].value_counts()[::50].index.to_list()\n",
    "\n",
    "stocks_df = stocks_df[stocks_df['Symbol'].isin(selected_tickers)].dropna()\n",
    "stocks_df['Date'] = pd.to_datetime(stocks_df['Date'])\n",
    "# stocks_df.set_index('Date', inplace=True)\n",
    "\n",
    "stocks_df.reset_index(drop=True, inplace=True)\n",
    "stocks_df.drop(columns=['index'], inplace=True)\n",
    "# stocks_df.to_csv('sp_500_Stocks_sample.csv', index=0)"
   ]
  },
  {
   "cell_type": "code",
   "execution_count": null,
   "id": "b07c4a78",
   "metadata": {},
   "outputs": [
    {
     "data": {
      "text/html": [
       "<div>\n",
       "<style scoped>\n",
       "    .dataframe tbody tr th:only-of-type {\n",
       "        vertical-align: middle;\n",
       "    }\n",
       "\n",
       "    .dataframe tbody tr th {\n",
       "        vertical-align: top;\n",
       "    }\n",
       "\n",
       "    .dataframe thead th {\n",
       "        text-align: right;\n",
       "    }\n",
       "</style>\n",
       "<table border=\"1\" class=\"dataframe\">\n",
       "  <thead>\n",
       "    <tr style=\"text-align: right;\">\n",
       "      <th></th>\n",
       "      <th>Date</th>\n",
       "      <th>Symbol</th>\n",
       "      <th>Adj_Close</th>\n",
       "      <th>Close</th>\n",
       "      <th>High</th>\n",
       "      <th>Low</th>\n",
       "      <th>Open</th>\n",
       "      <th>Volume</th>\n",
       "    </tr>\n",
       "  </thead>\n",
       "  <tbody>\n",
       "    <tr>\n",
       "      <th>0</th>\n",
       "      <td>2010-01-04</td>\n",
       "      <td>TECH</td>\n",
       "      <td>14.769435</td>\n",
       "      <td>17.170000</td>\n",
       "      <td>17.434999</td>\n",
       "      <td>17.067499</td>\n",
       "      <td>17.264999</td>\n",
       "      <td>454400.0</td>\n",
       "    </tr>\n",
       "    <tr>\n",
       "      <th>1</th>\n",
       "      <td>2010-01-05</td>\n",
       "      <td>TECH</td>\n",
       "      <td>14.642555</td>\n",
       "      <td>17.022499</td>\n",
       "      <td>17.247499</td>\n",
       "      <td>16.897499</td>\n",
       "      <td>17.122499</td>\n",
       "      <td>282000.0</td>\n",
       "    </tr>\n",
       "    <tr>\n",
       "      <th>2</th>\n",
       "      <td>2010-01-06</td>\n",
       "      <td>TECH</td>\n",
       "      <td>14.603847</td>\n",
       "      <td>16.977501</td>\n",
       "      <td>17.115000</td>\n",
       "      <td>16.947500</td>\n",
       "      <td>17.100000</td>\n",
       "      <td>402800.0</td>\n",
       "    </tr>\n",
       "    <tr>\n",
       "      <th>3</th>\n",
       "      <td>2010-01-07</td>\n",
       "      <td>TECH</td>\n",
       "      <td>14.638255</td>\n",
       "      <td>17.017500</td>\n",
       "      <td>17.202499</td>\n",
       "      <td>16.892500</td>\n",
       "      <td>17.007500</td>\n",
       "      <td>346400.0</td>\n",
       "    </tr>\n",
       "    <tr>\n",
       "      <th>4</th>\n",
       "      <td>2010-01-08</td>\n",
       "      <td>TECH</td>\n",
       "      <td>14.610303</td>\n",
       "      <td>16.985001</td>\n",
       "      <td>17.075001</td>\n",
       "      <td>16.797501</td>\n",
       "      <td>16.969999</td>\n",
       "      <td>455200.0</td>\n",
       "    </tr>\n",
       "    <tr>\n",
       "      <th>...</th>\n",
       "      <td>...</td>\n",
       "      <td>...</td>\n",
       "      <td>...</td>\n",
       "      <td>...</td>\n",
       "      <td>...</td>\n",
       "      <td>...</td>\n",
       "      <td>...</td>\n",
       "      <td>...</td>\n",
       "    </tr>\n",
       "    <tr>\n",
       "      <th>36429</th>\n",
       "      <td>2024-08-26</td>\n",
       "      <td>ZBH</td>\n",
       "      <td>114.629997</td>\n",
       "      <td>114.629997</td>\n",
       "      <td>116.370003</td>\n",
       "      <td>114.230003</td>\n",
       "      <td>115.320000</td>\n",
       "      <td>913500.0</td>\n",
       "    </tr>\n",
       "    <tr>\n",
       "      <th>36430</th>\n",
       "      <td>2024-08-27</td>\n",
       "      <td>ZBH</td>\n",
       "      <td>114.669998</td>\n",
       "      <td>114.669998</td>\n",
       "      <td>115.360001</td>\n",
       "      <td>114.519997</td>\n",
       "      <td>114.669998</td>\n",
       "      <td>914300.0</td>\n",
       "    </tr>\n",
       "    <tr>\n",
       "      <th>36431</th>\n",
       "      <td>2024-08-28</td>\n",
       "      <td>ZBH</td>\n",
       "      <td>114.190002</td>\n",
       "      <td>114.190002</td>\n",
       "      <td>115.150002</td>\n",
       "      <td>113.860001</td>\n",
       "      <td>114.720001</td>\n",
       "      <td>687000.0</td>\n",
       "    </tr>\n",
       "    <tr>\n",
       "      <th>36432</th>\n",
       "      <td>2024-08-29</td>\n",
       "      <td>ZBH</td>\n",
       "      <td>114.669998</td>\n",
       "      <td>114.669998</td>\n",
       "      <td>115.339996</td>\n",
       "      <td>113.910004</td>\n",
       "      <td>114.919998</td>\n",
       "      <td>801500.0</td>\n",
       "    </tr>\n",
       "    <tr>\n",
       "      <th>36433</th>\n",
       "      <td>2024-08-30</td>\n",
       "      <td>ZBH</td>\n",
       "      <td>115.459999</td>\n",
       "      <td>115.459999</td>\n",
       "      <td>115.930000</td>\n",
       "      <td>114.610001</td>\n",
       "      <td>114.949997</td>\n",
       "      <td>1584900.0</td>\n",
       "    </tr>\n",
       "  </tbody>\n",
       "</table>\n",
       "<p>36434 rows × 8 columns</p>\n",
       "</div>"
      ],
      "text/plain": [
       "             Date Symbol   Adj_Close       Close        High         Low  \\\n",
       "0      2010-01-04   TECH   14.769435   17.170000   17.434999   17.067499   \n",
       "1      2010-01-05   TECH   14.642555   17.022499   17.247499   16.897499   \n",
       "2      2010-01-06   TECH   14.603847   16.977501   17.115000   16.947500   \n",
       "3      2010-01-07   TECH   14.638255   17.017500   17.202499   16.892500   \n",
       "4      2010-01-08   TECH   14.610303   16.985001   17.075001   16.797501   \n",
       "...           ...    ...         ...         ...         ...         ...   \n",
       "36429  2024-08-26    ZBH  114.629997  114.629997  116.370003  114.230003   \n",
       "36430  2024-08-27    ZBH  114.669998  114.669998  115.360001  114.519997   \n",
       "36431  2024-08-28    ZBH  114.190002  114.190002  115.150002  113.860001   \n",
       "36432  2024-08-29    ZBH  114.669998  114.669998  115.339996  113.910004   \n",
       "36433  2024-08-30    ZBH  115.459999  115.459999  115.930000  114.610001   \n",
       "\n",
       "             Open     Volume  \n",
       "0       17.264999   454400.0  \n",
       "1       17.122499   282000.0  \n",
       "2       17.100000   402800.0  \n",
       "3       17.007500   346400.0  \n",
       "4       16.969999   455200.0  \n",
       "...           ...        ...  \n",
       "36429  115.320000   913500.0  \n",
       "36430  114.669998   914300.0  \n",
       "36431  114.720001   687000.0  \n",
       "36432  114.919998   801500.0  \n",
       "36433  114.949997  1584900.0  \n",
       "\n",
       "[36434 rows x 8 columns]"
      ]
     },
     "execution_count": 34,
     "metadata": {},
     "output_type": "execute_result"
    }
   ],
   "source": [
    "sp500_path = '/mnt/FE86DAF186DAAA03/Python/Secondary/Study Repositories/time-series-studies/data/sp_500_Stocks'\n",
    "stocks_df = pd.read_csv(os.path.join(sp500_path, 'sp500_stocks_sample.csv'))\n",
    "stocks_df"
   ]
  },
  {
   "cell_type": "code",
   "execution_count": 3,
   "id": "ffac7d82",
   "metadata": {},
   "outputs": [],
   "source": [
    "ts = stocks_df['Close'].dropna()\n"
   ]
  },
  {
   "cell_type": "code",
   "execution_count": 4,
   "metadata": {},
   "outputs": [
    {
     "name": "stderr",
     "output_type": "stream",
     "text": [
      "/home/user/virtualenvs/ts1_venv/lib/python3.12/site-packages/sklearn/utils/deprecation.py:151: FutureWarning: 'force_all_finite' was renamed to 'ensure_all_finite' in 1.6 and will be removed in 1.8.\n",
      "  warnings.warn(\n",
      "/home/user/virtualenvs/ts1_venv/lib/python3.12/site-packages/sklearn/utils/deprecation.py:151: FutureWarning: 'force_all_finite' was renamed to 'ensure_all_finite' in 1.6 and will be removed in 1.8.\n",
      "  warnings.warn(\n",
      "/home/user/virtualenvs/ts1_venv/lib/python3.12/site-packages/sklearn/utils/deprecation.py:151: FutureWarning: 'force_all_finite' was renamed to 'ensure_all_finite' in 1.6 and will be removed in 1.8.\n",
      "  warnings.warn(\n",
      "/home/user/virtualenvs/ts1_venv/lib/python3.12/site-packages/sklearn/utils/deprecation.py:151: FutureWarning: 'force_all_finite' was renamed to 'ensure_all_finite' in 1.6 and will be removed in 1.8.\n",
      "  warnings.warn(\n",
      "/home/user/virtualenvs/ts1_venv/lib/python3.12/site-packages/sklearn/utils/deprecation.py:151: FutureWarning: 'force_all_finite' was renamed to 'ensure_all_finite' in 1.6 and will be removed in 1.8.\n",
      "  warnings.warn(\n",
      "/home/user/virtualenvs/ts1_venv/lib/python3.12/site-packages/sklearn/utils/deprecation.py:151: FutureWarning: 'force_all_finite' was renamed to 'ensure_all_finite' in 1.6 and will be removed in 1.8.\n",
      "  warnings.warn(\n",
      "/home/user/virtualenvs/ts1_venv/lib/python3.12/site-packages/sklearn/utils/deprecation.py:151: FutureWarning: 'force_all_finite' was renamed to 'ensure_all_finite' in 1.6 and will be removed in 1.8.\n",
      "  warnings.warn(\n",
      "/home/user/virtualenvs/ts1_venv/lib/python3.12/site-packages/sklearn/utils/deprecation.py:151: FutureWarning: 'force_all_finite' was renamed to 'ensure_all_finite' in 1.6 and will be removed in 1.8.\n",
      "  warnings.warn(\n",
      "/home/user/virtualenvs/ts1_venv/lib/python3.12/site-packages/sklearn/utils/deprecation.py:151: FutureWarning: 'force_all_finite' was renamed to 'ensure_all_finite' in 1.6 and will be removed in 1.8.\n",
      "  warnings.warn(\n",
      "/home/user/virtualenvs/ts1_venv/lib/python3.12/site-packages/sklearn/utils/deprecation.py:151: FutureWarning: 'force_all_finite' was renamed to 'ensure_all_finite' in 1.6 and will be removed in 1.8.\n",
      "  warnings.warn(\n",
      "/home/user/virtualenvs/ts1_venv/lib/python3.12/site-packages/sklearn/utils/deprecation.py:151: FutureWarning: 'force_all_finite' was renamed to 'ensure_all_finite' in 1.6 and will be removed in 1.8.\n",
      "  warnings.warn(\n",
      "/home/user/virtualenvs/ts1_venv/lib/python3.12/site-packages/sklearn/utils/deprecation.py:151: FutureWarning: 'force_all_finite' was renamed to 'ensure_all_finite' in 1.6 and will be removed in 1.8.\n",
      "  warnings.warn(\n"
     ]
    },
    {
     "name": "stdout",
     "output_type": "stream",
     "text": [
      "Performing stepwise search to minimize aic\n",
      " ARIMA(2,2,2)(0,0,0)[0] intercept   : AIC=inf, Time=9.54 sec\n",
      " ARIMA(0,2,0)(0,0,0)[0] intercept   : AIC=21090.473, Time=0.12 sec\n"
     ]
    },
    {
     "name": "stderr",
     "output_type": "stream",
     "text": [
      "/home/user/virtualenvs/ts1_venv/lib/python3.12/site-packages/sklearn/utils/deprecation.py:151: FutureWarning: 'force_all_finite' was renamed to 'ensure_all_finite' in 1.6 and will be removed in 1.8.\n",
      "  warnings.warn(\n",
      "/home/user/virtualenvs/ts1_venv/lib/python3.12/site-packages/sklearn/utils/deprecation.py:151: FutureWarning: 'force_all_finite' was renamed to 'ensure_all_finite' in 1.6 and will be removed in 1.8.\n",
      "  warnings.warn(\n"
     ]
    },
    {
     "name": "stdout",
     "output_type": "stream",
     "text": [
      " ARIMA(1,2,0)(0,0,0)[0] intercept   : AIC=19902.388, Time=0.33 sec\n"
     ]
    },
    {
     "name": "stderr",
     "output_type": "stream",
     "text": [
      "/home/user/virtualenvs/ts1_venv/lib/python3.12/site-packages/sklearn/utils/deprecation.py:151: FutureWarning: 'force_all_finite' was renamed to 'ensure_all_finite' in 1.6 and will be removed in 1.8.\n",
      "  warnings.warn(\n"
     ]
    },
    {
     "name": "stdout",
     "output_type": "stream",
     "text": [
      " ARIMA(0,2,1)(0,0,0)[0] intercept   : AIC=inf, Time=6.11 sec\n",
      " ARIMA(0,2,0)(0,0,0)[0]             : AIC=21088.473, Time=0.19 sec\n"
     ]
    },
    {
     "name": "stderr",
     "output_type": "stream",
     "text": [
      "/home/user/virtualenvs/ts1_venv/lib/python3.12/site-packages/sklearn/utils/deprecation.py:151: FutureWarning: 'force_all_finite' was renamed to 'ensure_all_finite' in 1.6 and will be removed in 1.8.\n",
      "  warnings.warn(\n",
      "/home/user/virtualenvs/ts1_venv/lib/python3.12/site-packages/sklearn/utils/deprecation.py:151: FutureWarning: 'force_all_finite' was renamed to 'ensure_all_finite' in 1.6 and will be removed in 1.8.\n",
      "  warnings.warn(\n"
     ]
    },
    {
     "name": "stdout",
     "output_type": "stream",
     "text": [
      " ARIMA(2,2,0)(0,0,0)[0] intercept   : AIC=19387.909, Time=0.92 sec\n"
     ]
    },
    {
     "name": "stderr",
     "output_type": "stream",
     "text": [
      "/home/user/virtualenvs/ts1_venv/lib/python3.12/site-packages/sklearn/utils/deprecation.py:151: FutureWarning: 'force_all_finite' was renamed to 'ensure_all_finite' in 1.6 and will be removed in 1.8.\n",
      "  warnings.warn(\n"
     ]
    },
    {
     "name": "stdout",
     "output_type": "stream",
     "text": [
      " ARIMA(3,2,0)(0,0,0)[0] intercept   : AIC=19080.202, Time=0.82 sec\n"
     ]
    },
    {
     "name": "stderr",
     "output_type": "stream",
     "text": [
      "/home/user/virtualenvs/ts1_venv/lib/python3.12/site-packages/sklearn/utils/deprecation.py:151: FutureWarning: 'force_all_finite' was renamed to 'ensure_all_finite' in 1.6 and will be removed in 1.8.\n",
      "  warnings.warn(\n"
     ]
    },
    {
     "name": "stdout",
     "output_type": "stream",
     "text": [
      " ARIMA(4,2,0)(0,0,0)[0] intercept   : AIC=18856.401, Time=1.24 sec\n"
     ]
    },
    {
     "name": "stderr",
     "output_type": "stream",
     "text": [
      "/home/user/virtualenvs/ts1_venv/lib/python3.12/site-packages/sklearn/utils/deprecation.py:151: FutureWarning: 'force_all_finite' was renamed to 'ensure_all_finite' in 1.6 and will be removed in 1.8.\n",
      "  warnings.warn(\n"
     ]
    },
    {
     "name": "stdout",
     "output_type": "stream",
     "text": [
      " ARIMA(5,2,0)(0,0,0)[0] intercept   : AIC=18808.745, Time=1.53 sec\n"
     ]
    },
    {
     "name": "stderr",
     "output_type": "stream",
     "text": [
      "/home/user/virtualenvs/ts1_venv/lib/python3.12/site-packages/sklearn/utils/deprecation.py:151: FutureWarning: 'force_all_finite' was renamed to 'ensure_all_finite' in 1.6 and will be removed in 1.8.\n",
      "  warnings.warn(\n"
     ]
    },
    {
     "name": "stdout",
     "output_type": "stream",
     "text": [
      " ARIMA(5,2,1)(0,0,0)[0] intercept   : AIC=inf, Time=14.62 sec\n"
     ]
    },
    {
     "name": "stderr",
     "output_type": "stream",
     "text": [
      "/home/user/virtualenvs/ts1_venv/lib/python3.12/site-packages/sklearn/utils/deprecation.py:151: FutureWarning: 'force_all_finite' was renamed to 'ensure_all_finite' in 1.6 and will be removed in 1.8.\n",
      "  warnings.warn(\n"
     ]
    },
    {
     "name": "stdout",
     "output_type": "stream",
     "text": [
      " ARIMA(4,2,1)(0,0,0)[0] intercept   : AIC=inf, Time=10.00 sec\n"
     ]
    },
    {
     "name": "stderr",
     "output_type": "stream",
     "text": [
      "/home/user/virtualenvs/ts1_venv/lib/python3.12/site-packages/sklearn/utils/deprecation.py:151: FutureWarning: 'force_all_finite' was renamed to 'ensure_all_finite' in 1.6 and will be removed in 1.8.\n",
      "  warnings.warn(\n"
     ]
    },
    {
     "name": "stdout",
     "output_type": "stream",
     "text": [
      " ARIMA(5,2,0)(0,0,0)[0]             : AIC=18806.745, Time=0.69 sec\n"
     ]
    },
    {
     "name": "stderr",
     "output_type": "stream",
     "text": [
      "/home/user/virtualenvs/ts1_venv/lib/python3.12/site-packages/sklearn/utils/deprecation.py:151: FutureWarning: 'force_all_finite' was renamed to 'ensure_all_finite' in 1.6 and will be removed in 1.8.\n",
      "  warnings.warn(\n"
     ]
    },
    {
     "name": "stdout",
     "output_type": "stream",
     "text": [
      " ARIMA(4,2,0)(0,0,0)[0]             : AIC=18854.402, Time=0.60 sec\n"
     ]
    },
    {
     "name": "stderr",
     "output_type": "stream",
     "text": [
      "/home/user/virtualenvs/ts1_venv/lib/python3.12/site-packages/sklearn/utils/deprecation.py:151: FutureWarning: 'force_all_finite' was renamed to 'ensure_all_finite' in 1.6 and will be removed in 1.8.\n",
      "  warnings.warn(\n"
     ]
    },
    {
     "name": "stdout",
     "output_type": "stream",
     "text": [
      " ARIMA(5,2,1)(0,0,0)[0]             : AIC=inf, Time=5.50 sec\n"
     ]
    },
    {
     "name": "stderr",
     "output_type": "stream",
     "text": [
      "/home/user/virtualenvs/ts1_venv/lib/python3.12/site-packages/sklearn/utils/deprecation.py:151: FutureWarning: 'force_all_finite' was renamed to 'ensure_all_finite' in 1.6 and will be removed in 1.8.\n",
      "  warnings.warn(\n"
     ]
    },
    {
     "name": "stdout",
     "output_type": "stream",
     "text": [
      " ARIMA(4,2,1)(0,0,0)[0]             : AIC=inf, Time=3.76 sec\n",
      "\n",
      "Best model:  ARIMA(5,2,0)(0,0,0)[0]          \n",
      "Total fit time: 56.411 seconds\n"
     ]
    }
   ],
   "source": [
    "\n",
    "model = pm.auto_arima(\n",
    "    ts,\n",
    "    seasonal=False,\n",
    "    stepwise=True,\n",
    "    suppress_warnings=True,\n",
    "    error_action='ignore',\n",
    "    trace=True,\n",
    ")"
   ]
  },
  {
   "cell_type": "code",
   "execution_count": 5,
   "metadata": {},
   "outputs": [
    {
     "data": {
      "text/html": [
       "<table class=\"simpletable\">\n",
       "<caption>SARIMAX Results</caption>\n",
       "<tr>\n",
       "  <th>Dep. Variable:</th>           <td>y</td>        <th>  No. Observations:  </th>   <td>3690</td>   \n",
       "</tr>\n",
       "<tr>\n",
       "  <th>Model:</th>           <td>SARIMAX(5, 2, 0)</td> <th>  Log Likelihood     </th> <td>-9397.373</td>\n",
       "</tr>\n",
       "<tr>\n",
       "  <th>Date:</th>            <td>Fri, 02 May 2025</td> <th>  AIC                </th> <td>18806.745</td>\n",
       "</tr>\n",
       "<tr>\n",
       "  <th>Time:</th>                <td>10:18:36</td>     <th>  BIC                </th> <td>18844.023</td>\n",
       "</tr>\n",
       "<tr>\n",
       "  <th>Sample:</th>                  <td>0</td>        <th>  HQIC               </th> <td>18820.014</td>\n",
       "</tr>\n",
       "<tr>\n",
       "  <th></th>                      <td> - 3690</td>     <th>                     </th>     <td> </td>    \n",
       "</tr>\n",
       "<tr>\n",
       "  <th>Covariance Type:</th>        <td>opg</td>       <th>                     </th>     <td> </td>    \n",
       "</tr>\n",
       "</table>\n",
       "<table class=\"simpletable\">\n",
       "<tr>\n",
       "     <td></td>       <th>coef</th>     <th>std err</th>      <th>z</th>      <th>P>|z|</th>  <th>[0.025</th>    <th>0.975]</th>  \n",
       "</tr>\n",
       "<tr>\n",
       "  <th>ar.L1</th>  <td>   -0.9153</td> <td>    0.008</td> <td> -108.156</td> <td> 0.000</td> <td>   -0.932</td> <td>   -0.899</td>\n",
       "</tr>\n",
       "<tr>\n",
       "  <th>ar.L2</th>  <td>   -0.7584</td> <td>    0.012</td> <td>  -62.380</td> <td> 0.000</td> <td>   -0.782</td> <td>   -0.735</td>\n",
       "</tr>\n",
       "<tr>\n",
       "  <th>ar.L3</th>  <td>   -0.5646</td> <td>    0.013</td> <td>  -43.682</td> <td> 0.000</td> <td>   -0.590</td> <td>   -0.539</td>\n",
       "</tr>\n",
       "<tr>\n",
       "  <th>ar.L4</th>  <td>   -0.3464</td> <td>    0.012</td> <td>  -29.845</td> <td> 0.000</td> <td>   -0.369</td> <td>   -0.324</td>\n",
       "</tr>\n",
       "<tr>\n",
       "  <th>ar.L5</th>  <td>   -0.1157</td> <td>    0.009</td> <td>  -12.793</td> <td> 0.000</td> <td>   -0.133</td> <td>   -0.098</td>\n",
       "</tr>\n",
       "<tr>\n",
       "  <th>sigma2</th> <td>    9.5638</td> <td>    0.101</td> <td>   95.131</td> <td> 0.000</td> <td>    9.367</td> <td>    9.761</td>\n",
       "</tr>\n",
       "</table>\n",
       "<table class=\"simpletable\">\n",
       "<tr>\n",
       "  <th>Ljung-Box (L1) (Q):</th>      <td>1.56</td>  <th>  Jarque-Bera (JB):  </th> <td>11031.53</td>\n",
       "</tr>\n",
       "<tr>\n",
       "  <th>Prob(Q):</th>                 <td>0.21</td>  <th>  Prob(JB):          </th>   <td>0.00</td>  \n",
       "</tr>\n",
       "<tr>\n",
       "  <th>Heteroskedasticity (H):</th> <td>115.87</td> <th>  Skew:              </th>   <td>0.05</td>  \n",
       "</tr>\n",
       "<tr>\n",
       "  <th>Prob(H) (two-sided):</th>     <td>0.00</td>  <th>  Kurtosis:          </th>   <td>11.47</td> \n",
       "</tr>\n",
       "</table><br/><br/>Warnings:<br/>[1] Covariance matrix calculated using the outer product of gradients (complex-step)."
      ],
      "text/latex": [
       "\\begin{center}\n",
       "\\begin{tabular}{lclc}\n",
       "\\toprule\n",
       "\\textbf{Dep. Variable:}          &        y         & \\textbf{  No. Observations:  } &    3690     \\\\\n",
       "\\textbf{Model:}                  & SARIMAX(5, 2, 0) & \\textbf{  Log Likelihood     } & -9397.373   \\\\\n",
       "\\textbf{Date:}                   & Fri, 02 May 2025 & \\textbf{  AIC                } & 18806.745   \\\\\n",
       "\\textbf{Time:}                   &     10:18:36     & \\textbf{  BIC                } & 18844.023   \\\\\n",
       "\\textbf{Sample:}                 &        0         & \\textbf{  HQIC               } & 18820.014   \\\\\n",
       "\\textbf{}                        &      - 3690      & \\textbf{                     } &             \\\\\n",
       "\\textbf{Covariance Type:}        &       opg        & \\textbf{                     } &             \\\\\n",
       "\\bottomrule\n",
       "\\end{tabular}\n",
       "\\begin{tabular}{lcccccc}\n",
       "                & \\textbf{coef} & \\textbf{std err} & \\textbf{z} & \\textbf{P$> |$z$|$} & \\textbf{[0.025} & \\textbf{0.975]}  \\\\\n",
       "\\midrule\n",
       "\\textbf{ar.L1}  &      -0.9153  &        0.008     &  -108.156  &         0.000        &       -0.932    &       -0.899     \\\\\n",
       "\\textbf{ar.L2}  &      -0.7584  &        0.012     &   -62.380  &         0.000        &       -0.782    &       -0.735     \\\\\n",
       "\\textbf{ar.L3}  &      -0.5646  &        0.013     &   -43.682  &         0.000        &       -0.590    &       -0.539     \\\\\n",
       "\\textbf{ar.L4}  &      -0.3464  &        0.012     &   -29.845  &         0.000        &       -0.369    &       -0.324     \\\\\n",
       "\\textbf{ar.L5}  &      -0.1157  &        0.009     &   -12.793  &         0.000        &       -0.133    &       -0.098     \\\\\n",
       "\\textbf{sigma2} &       9.5638  &        0.101     &    95.131  &         0.000        &        9.367    &        9.761     \\\\\n",
       "\\bottomrule\n",
       "\\end{tabular}\n",
       "\\begin{tabular}{lclc}\n",
       "\\textbf{Ljung-Box (L1) (Q):}     &  1.56  & \\textbf{  Jarque-Bera (JB):  } & 11031.53  \\\\\n",
       "\\textbf{Prob(Q):}                &  0.21  & \\textbf{  Prob(JB):          } &   0.00    \\\\\n",
       "\\textbf{Heteroskedasticity (H):} & 115.87 & \\textbf{  Skew:              } &   0.05    \\\\\n",
       "\\textbf{Prob(H) (two-sided):}    &  0.00  & \\textbf{  Kurtosis:          } &  11.47    \\\\\n",
       "\\bottomrule\n",
       "\\end{tabular}\n",
       "%\\caption{SARIMAX Results}\n",
       "\\end{center}\n",
       "\n",
       "Warnings: \\newline\n",
       " [1] Covariance matrix calculated using the outer product of gradients (complex-step)."
      ],
      "text/plain": [
       "<class 'statsmodels.iolib.summary.Summary'>\n",
       "\"\"\"\n",
       "                               SARIMAX Results                                \n",
       "==============================================================================\n",
       "Dep. Variable:                      y   No. Observations:                 3690\n",
       "Model:               SARIMAX(5, 2, 0)   Log Likelihood               -9397.373\n",
       "Date:                Fri, 02 May 2025   AIC                          18806.745\n",
       "Time:                        10:18:36   BIC                          18844.023\n",
       "Sample:                             0   HQIC                         18820.014\n",
       "                               - 3690                                         \n",
       "Covariance Type:                  opg                                         \n",
       "==============================================================================\n",
       "                 coef    std err          z      P>|z|      [0.025      0.975]\n",
       "------------------------------------------------------------------------------\n",
       "ar.L1         -0.9153      0.008   -108.156      0.000      -0.932      -0.899\n",
       "ar.L2         -0.7584      0.012    -62.380      0.000      -0.782      -0.735\n",
       "ar.L3         -0.5646      0.013    -43.682      0.000      -0.590      -0.539\n",
       "ar.L4         -0.3464      0.012    -29.845      0.000      -0.369      -0.324\n",
       "ar.L5         -0.1157      0.009    -12.793      0.000      -0.133      -0.098\n",
       "sigma2         9.5638      0.101     95.131      0.000       9.367       9.761\n",
       "===================================================================================\n",
       "Ljung-Box (L1) (Q):                   1.56   Jarque-Bera (JB):             11031.53\n",
       "Prob(Q):                              0.21   Prob(JB):                         0.00\n",
       "Heteroskedasticity (H):             115.87   Skew:                             0.05\n",
       "Prob(H) (two-sided):                  0.00   Kurtosis:                        11.47\n",
       "===================================================================================\n",
       "\n",
       "Warnings:\n",
       "[1] Covariance matrix calculated using the outer product of gradients (complex-step).\n",
       "\"\"\""
      ]
     },
     "execution_count": 5,
     "metadata": {},
     "output_type": "execute_result"
    }
   ],
   "source": [
    "model.summary()"
   ]
  },
  {
   "cell_type": "code",
   "execution_count": 6,
   "id": "6bca57a9",
   "metadata": {},
   "outputs": [
    {
     "name": "stderr",
     "output_type": "stream",
     "text": [
      "/home/user/virtualenvs/ts1_venv/lib/python3.12/site-packages/statsmodels/tsa/base/tsa_model.py:837: ValueWarning: No supported index is available. Prediction results will be given with an integer index beginning at `start`.\n",
      "  return get_prediction_index(\n",
      "/home/user/virtualenvs/ts1_venv/lib/python3.12/site-packages/statsmodels/tsa/base/tsa_model.py:837: FutureWarning: No supported index is available. In the next version, calling this method in a model without a supported index will result in an exception.\n",
      "  return get_prediction_index(\n",
      "/home/user/virtualenvs/ts1_venv/lib/python3.12/site-packages/sklearn/utils/deprecation.py:151: FutureWarning: 'force_all_finite' was renamed to 'ensure_all_finite' in 1.6 and will be removed in 1.8.\n",
      "  warnings.warn(\n",
      "/home/user/virtualenvs/ts1_venv/lib/python3.12/site-packages/sklearn/utils/deprecation.py:151: FutureWarning: 'force_all_finite' was renamed to 'ensure_all_finite' in 1.6 and will be removed in 1.8.\n",
      "  warnings.warn(\n"
     ]
    }
   ],
   "source": [
    "n_periods = 30\n",
    "forecast, conf_int = model.predict(n_periods=n_periods, return_conf_int=True)"
   ]
  },
  {
   "cell_type": "code",
   "execution_count": 7,
   "id": "7469ef6a",
   "metadata": {},
   "outputs": [
    {
     "data": {
      "image/png": "[encoded data removed]",
      "text/plain": [
       "<Figure size 1000x500 with 1 Axes>"
      ]
     },
     "metadata": {},
     "output_type": "display_data"
    }
   ],
   "source": [
    "forecast_index = pd.date_range(ts.index[-1], periods=n_periods + 1, freq='B')[1:]\n",
    "\n",
    "plt.figure(figsize=(10,5))\n",
    "plt.plot(ts, label='Historical')\n",
    "plt.plot(forecast_index, forecast, label='Forecast', color='green')\n",
    "plt.fill_between(forecast_index, conf_int[:, 0], conf_int[:, 1], color='lightgreen', alpha=0.5)\n",
    "plt.title(f\"Microsoft Forecast for Next {n_periods} Days\")\n",
    "plt.xlabel('Date')\n",
    "plt.ylabel('Price')\n",
    "plt.legend()\n",
    "plt.tight_layout()\n",
    "\n",
    "plt.xlim(ts.index[-200], forecast_index[-1])\n",
    "plt.show()\n"
   ]
  },
  {
   "cell_type": "code",
   "execution_count": null,
   "id": "63fd0d41",
   "metadata": {},
   "outputs": [
    {
     "name": "stderr",
     "output_type": "stream",
     "text": [
      "/tmp/ipykernel_10432/1495984278.py:2: SettingWithCopyWarning: \n",
      "A value is trying to be set on a copy of a slice from a DataFrame.\n",
      "Try using .loc[row_indexer,col_indexer] = value instead\n",
      "\n",
      "See the caveats in the documentation: https://pandas.pydata.org/pandas-docs/stable/user_guide/indexing.html#returning-a-view-versus-a-copy\n",
      "  test_df['Close'] = 26\n",
      "/home/user/virtualenvs/ts1_venv/lib/python3.12/site-packages/sklearn/utils/deprecation.py:151: FutureWarning: 'force_all_finite' was renamed to 'ensure_all_finite' in 1.6 and will be removed in 1.8.\n",
      "  warnings.warn(\n"
     ]
    },
    {
     "data": {
      "image/png": "[encoded data removed]",
      "text/plain": [
       "<Figure size 1000x500 with 1 Axes>"
      ]
     },
     "metadata": {},
     "output_type": "display_data"
    }
   ],
   "source": [
    "test_df = stocks_df.iloc[100:200]\n",
    "test_df['Close'] = 26\n",
    "\n",
    "forecast, conf_int = model.predict_in_sample(test_df, start=100, end=200, return_conf_int=True)\n",
    "\n",
    "forecast_index = pd.date_range(forecast.index[-1], periods=n_periods + 1, freq='B')[1:]\n",
    "\n",
    "plt.figure(figsize=(10,5))\n",
    "plt.plot(test_df['Close'], label='Historical')\n",
    "plt.plot(forecast.index, forecast, label='Forecast', color='green')\n",
    "# plt.fill_between(forecast.index, conf_int[:, 0], conf_int[:, 1], color='lightgreen', alpha=0.5)\n",
    "plt.title(f\"Microsoft Forecast for Next {n_periods} Days\")\n",
    "plt.xlabel('Date')\n",
    "plt.ylabel('Price')\n",
    "plt.legend()\n",
    "plt.tight_layout()\n",
    "\n",
    "# plt.xlim(ts.index[-200], forecast_index[-1])\n",
    "plt.show()\n",
    "\n"
   ]
  },
  {
   "cell_type": "code",
   "execution_count": 42,
   "id": "e018d729",
   "metadata": {},
   "outputs": [
    {
     "name": "stdout",
     "output_type": "stream",
     "text": [
      "101\n"
     ]
    },
    {
     "data": {
      "text/plain": [
       "Date\n",
       "2010-05-27    24.417065\n",
       "2010-05-28    25.561459\n",
       "2010-06-01    25.526507\n",
       "2010-06-02    25.714735\n",
       "2010-06-03    26.431961\n",
       "                ...    \n",
       "2010-10-13    24.952391\n",
       "2010-10-14    25.465781\n",
       "2010-10-15    25.372350\n",
       "2010-10-18    25.709466\n",
       "2010-10-19    26.040011\n",
       "Name: predicted_mean, Length: 101, dtype: float64"
      ]
     },
     "execution_count": 42,
     "metadata": {},
     "output_type": "execute_result"
    }
   ],
   "source": [
    "print(len(forecast))\n",
    "forecast"
   ]
  },
  {
   "cell_type": "code",
   "execution_count": 46,
   "id": "79fe1ce8",
   "metadata": {},
   "outputs": [
    {
     "data": {
      "text/html": [
       "<div>\n",
       "<style scoped>\n",
       "    .dataframe tbody tr th:only-of-type {\n",
       "        vertical-align: middle;\n",
       "    }\n",
       "\n",
       "    .dataframe tbody tr th {\n",
       "        vertical-align: top;\n",
       "    }\n",
       "\n",
       "    .dataframe thead th {\n",
       "        text-align: right;\n",
       "    }\n",
       "</style>\n",
       "<table border=\"1\" class=\"dataframe\">\n",
       "  <thead>\n",
       "    <tr style=\"text-align: right;\">\n",
       "      <th></th>\n",
       "      <th>index</th>\n",
       "      <th>Symbol</th>\n",
       "      <th>Adj_Close</th>\n",
       "      <th>Close</th>\n",
       "      <th>High</th>\n",
       "      <th>Low</th>\n",
       "      <th>Open</th>\n",
       "      <th>Volume</th>\n",
       "    </tr>\n",
       "    <tr>\n",
       "      <th>Date</th>\n",
       "      <th></th>\n",
       "      <th></th>\n",
       "      <th></th>\n",
       "      <th></th>\n",
       "      <th></th>\n",
       "      <th></th>\n",
       "      <th></th>\n",
       "      <th></th>\n",
       "    </tr>\n",
       "  </thead>\n",
       "  <tbody>\n",
       "    <tr>\n",
       "      <th>2010-05-27</th>\n",
       "      <td>1180900</td>\n",
       "      <td>MSFT</td>\n",
       "      <td>19.793890</td>\n",
       "      <td>26.000000</td>\n",
       "      <td>26.360001</td>\n",
       "      <td>25.730000</td>\n",
       "      <td>25.730000</td>\n",
       "      <td>136433600.0</td>\n",
       "    </tr>\n",
       "    <tr>\n",
       "      <th>2010-05-28</th>\n",
       "      <td>1180901</td>\n",
       "      <td>MSFT</td>\n",
       "      <td>19.641628</td>\n",
       "      <td>25.799999</td>\n",
       "      <td>26.120001</td>\n",
       "      <td>25.660000</td>\n",
       "      <td>25.840000</td>\n",
       "      <td>67496900.0</td>\n",
       "    </tr>\n",
       "    <tr>\n",
       "      <th>2010-06-01</th>\n",
       "      <td>1180902</td>\n",
       "      <td>MSFT</td>\n",
       "      <td>19.710136</td>\n",
       "      <td>25.889999</td>\n",
       "      <td>26.309999</td>\n",
       "      <td>25.520000</td>\n",
       "      <td>25.530001</td>\n",
       "      <td>76152400.0</td>\n",
       "    </tr>\n",
       "    <tr>\n",
       "      <th>2010-06-02</th>\n",
       "      <td>1180903</td>\n",
       "      <td>MSFT</td>\n",
       "      <td>20.144093</td>\n",
       "      <td>26.459999</td>\n",
       "      <td>26.480000</td>\n",
       "      <td>25.730000</td>\n",
       "      <td>26.059999</td>\n",
       "      <td>65718800.0</td>\n",
       "    </tr>\n",
       "    <tr>\n",
       "      <th>2010-06-03</th>\n",
       "      <td>1180904</td>\n",
       "      <td>MSFT</td>\n",
       "      <td>20.448606</td>\n",
       "      <td>26.860001</td>\n",
       "      <td>26.930000</td>\n",
       "      <td>26.410000</td>\n",
       "      <td>26.549999</td>\n",
       "      <td>67837000.0</td>\n",
       "    </tr>\n",
       "    <tr>\n",
       "      <th>...</th>\n",
       "      <td>...</td>\n",
       "      <td>...</td>\n",
       "      <td>...</td>\n",
       "      <td>...</td>\n",
       "      <td>...</td>\n",
       "      <td>...</td>\n",
       "      <td>...</td>\n",
       "      <td>...</td>\n",
       "    </tr>\n",
       "    <tr>\n",
       "      <th>2010-10-12</th>\n",
       "      <td>1180995</td>\n",
       "      <td>MSFT</td>\n",
       "      <td>19.004000</td>\n",
       "      <td>24.830000</td>\n",
       "      <td>24.930000</td>\n",
       "      <td>24.430000</td>\n",
       "      <td>24.650000</td>\n",
       "      <td>50141500.0</td>\n",
       "    </tr>\n",
       "    <tr>\n",
       "      <th>2010-10-13</th>\n",
       "      <td>1180996</td>\n",
       "      <td>MSFT</td>\n",
       "      <td>19.394337</td>\n",
       "      <td>25.340000</td>\n",
       "      <td>25.540001</td>\n",
       "      <td>24.889999</td>\n",
       "      <td>25.020000</td>\n",
       "      <td>75336500.0</td>\n",
       "    </tr>\n",
       "    <tr>\n",
       "      <th>2010-10-14</th>\n",
       "      <td>1180997</td>\n",
       "      <td>MSFT</td>\n",
       "      <td>19.310148</td>\n",
       "      <td>25.230000</td>\n",
       "      <td>25.340000</td>\n",
       "      <td>25.000000</td>\n",
       "      <td>25.290001</td>\n",
       "      <td>51949100.0</td>\n",
       "    </tr>\n",
       "    <tr>\n",
       "      <th>2010-10-15</th>\n",
       "      <td>1180998</td>\n",
       "      <td>MSFT</td>\n",
       "      <td>19.547400</td>\n",
       "      <td>25.540001</td>\n",
       "      <td>25.549999</td>\n",
       "      <td>25.230000</td>\n",
       "      <td>25.360001</td>\n",
       "      <td>68954800.0</td>\n",
       "    </tr>\n",
       "    <tr>\n",
       "      <th>2010-10-18</th>\n",
       "      <td>1180999</td>\n",
       "      <td>MSFT</td>\n",
       "      <td>19.761707</td>\n",
       "      <td>25.820000</td>\n",
       "      <td>25.950001</td>\n",
       "      <td>25.450001</td>\n",
       "      <td>25.590000</td>\n",
       "      <td>48330500.0</td>\n",
       "    </tr>\n",
       "  </tbody>\n",
       "</table>\n",
       "<p>100 rows × 8 columns</p>\n",
       "</div>"
      ],
      "text/plain": [
       "              index Symbol  Adj_Close      Close       High        Low  \\\n",
       "Date                                                                     \n",
       "2010-05-27  1180900   MSFT  19.793890  26.000000  26.360001  25.730000   \n",
       "2010-05-28  1180901   MSFT  19.641628  25.799999  26.120001  25.660000   \n",
       "2010-06-01  1180902   MSFT  19.710136  25.889999  26.309999  25.520000   \n",
       "2010-06-02  1180903   MSFT  20.144093  26.459999  26.480000  25.730000   \n",
       "2010-06-03  1180904   MSFT  20.448606  26.860001  26.930000  26.410000   \n",
       "...             ...    ...        ...        ...        ...        ...   \n",
       "2010-10-12  1180995   MSFT  19.004000  24.830000  24.930000  24.430000   \n",
       "2010-10-13  1180996   MSFT  19.394337  25.340000  25.540001  24.889999   \n",
       "2010-10-14  1180997   MSFT  19.310148  25.230000  25.340000  25.000000   \n",
       "2010-10-15  1180998   MSFT  19.547400  25.540001  25.549999  25.230000   \n",
       "2010-10-18  1180999   MSFT  19.761707  25.820000  25.950001  25.450001   \n",
       "\n",
       "                 Open       Volume  \n",
       "Date                                \n",
       "2010-05-27  25.730000  136433600.0  \n",
       "2010-05-28  25.840000   67496900.0  \n",
       "2010-06-01  25.530001   76152400.0  \n",
       "2010-06-02  26.059999   65718800.0  \n",
       "2010-06-03  26.549999   67837000.0  \n",
       "...               ...          ...  \n",
       "2010-10-12  24.650000   50141500.0  \n",
       "2010-10-13  25.020000   75336500.0  \n",
       "2010-10-14  25.290001   51949100.0  \n",
       "2010-10-15  25.360001   68954800.0  \n",
       "2010-10-18  25.590000   48330500.0  \n",
       "\n",
       "[100 rows x 8 columns]"
      ]
     },
     "execution_count": 46,
     "metadata": {},
     "output_type": "execute_result"
    }
   ],
   "source": [
    "test_df"
   ]
  },
  {
   "cell_type": "code",
   "execution_count": 41,
   "id": "8f981ae1",
   "metadata": {},
   "outputs": [
    {
     "name": "stdout",
     "output_type": "stream",
     "text": [
      "30\n"
     ]
    },
    {
     "data": {
      "text/plain": [
       "DatetimeIndex(['2010-10-20', '2010-10-21', '2010-10-22', '2010-10-25',\n",
       "               '2010-10-26', '2010-10-27', '2010-10-28', '2010-10-29',\n",
       "               '2010-11-01', '2010-11-02', '2010-11-03', '2010-11-04',\n",
       "               '2010-11-05', '2010-11-08', '2010-11-09', '2010-11-10',\n",
       "               '2010-11-11', '2010-11-12', '2010-11-15', '2010-11-16',\n",
       "               '2010-11-17', '2010-11-18', '2010-11-19', '2010-11-22',\n",
       "               '2010-11-23', '2010-11-24', '2010-11-25', '2010-11-26',\n",
       "               '2010-11-29', '2010-11-30'],\n",
       "              dtype='datetime64[ns]', freq='B')"
      ]
     },
     "execution_count": 41,
     "metadata": {},
     "output_type": "execute_result"
    }
   ],
   "source": [
    "print(len(forecast_index))\n",
    "forecast_index"
   ]
  }
 ],
 "metadata": {
  "kernelspec": {
   "display_name": "ts3_venv",
   "language": "python",
   "name": "python3"
  },
  "language_info": {
   "codemirror_mode": {
    "name": "ipython",
    "version": 3
   },
   "file_extension": ".py",
   "mimetype": "text/x-python",
   "name": "python",
   "nbconvert_exporter": "python",
   "pygments_lexer": "ipython3",
   "version": "3.12.3"
  }
 },
 "nbformat": 4,
 "nbformat_minor": 5
}
