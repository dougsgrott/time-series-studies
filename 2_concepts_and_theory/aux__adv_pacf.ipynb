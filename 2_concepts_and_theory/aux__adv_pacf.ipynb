{
 "cells": [
  {
   "cell_type": "markdown",
   "id": "f2cbc51c",
   "metadata": {},
   "source": [
    "https://medium.com/data-science/how-i-learned-to-stop-worrying-and-love-the-partial-autocorrelation-coefficient-60d4bb58974e\n"
   ]
  },
  {
   "cell_type": "code",
   "execution_count": null,
   "id": "6676ef44",
   "metadata": {},
   "outputs": [],
   "source": []
  }
 ],
 "metadata": {
  "language_info": {
   "name": "python"
  }
 },
 "nbformat": 4,
 "nbformat_minor": 5
}
